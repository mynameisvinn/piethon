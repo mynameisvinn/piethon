{
 "cells": [
  {
   "cell_type": "markdown",
   "metadata": {},
   "source": [
    "https://nvbn.github.io/2016/01/04/import-from-github/\n",
    "\n",
    "https://www.python.org/dev/peps/pep-0302/\n",
    "\n",
    "https://github.com/nvbn/import_from_github_com/blob/master/github_com/__init__.py"
   ]
  },
  {
   "cell_type": "code",
   "execution_count": 1,
   "metadata": {},
   "outputs": [],
   "source": [
    "import sys\n",
    "import pip\n",
    "import os\n",
    "\n",
    "class IntermediateModule:\n",
    "    \"\"\"Module for paths like `github_com.nvbn`.\"\"\"\n",
    "\n",
    "    def __init__(self, fullname):\n",
    "        self.__package__ = fullname\n",
    "        self.__path__ = fullname.split('.')\n",
    "        self.__name__ = fullname\n",
    "\n",
    "\n",
    "class Finder:\n",
    "    \"\"\"\n",
    "    This method will be called with the fully qualified name of the module. If the finder is installed on sys.meta_path, it will receive a second argument, which is None for a top-level module, or package.__path__ for submodules or subpackages [5]. It should return a loader object if the module was found, or None if it wasn't. If find_module() raises an exception, it will be propagated to the caller, aborting the import.\n",
    "    \n",
    "    https://www.python.org/dev/peps/pep-0302/\n",
    "    \"\"\"\n",
    "\n",
    "    def find_module(self, module_name, package_path):\n",
    "        print(\"module_name is \", module_name)\n",
    "        if module_name.startswith('piehub'):\n",
    "            return Loader()\n",
    "\n",
    "\n",
    "class Loader:\n",
    "    \"\"\"Installs and imports modules from github.\"\"\"\n",
    "\n",
    "    def _is_installed(self, fullname):\n",
    "        try:\n",
    "            self._import_module(fullname)\n",
    "            return True\n",
    "        except ImportError:\n",
    "            return False\n",
    "\n",
    "    def _import_module(self, fullname):\n",
    "        \"\"\"exists already so import.\n",
    "        \"\"\"\n",
    "        actual_name = '.'.join(fullname.split('.')[2:])\n",
    "        print(\"checking\", actual_name)\n",
    "        return __import__(actual_name)\n",
    "\n",
    "    def _install_module(self, fullname):\n",
    "        if not self._is_installed(fullname):\n",
    "            url = fullname.replace('.', '/').replace('piehub', 'git+https://github.com', 1)\n",
    "            command = \"pip install \" + url\n",
    "            print(\"command is\", command)\n",
    "            os.system(command)\n",
    "\n",
    "            \n",
    "            \n",
    "    def _is_repository_path(self, fullname):\n",
    "        return fullname.count('.') == 2\n",
    "\n",
    "    def _is_intermediate_path(self, fullname):\n",
    "        return fullname.count('.') < 2\n",
    "\n",
    "    def load_module(self, fullname):\n",
    "        \"\"\"\n",
    "        once the interpreter receives a loader object, it will call the loader's\n",
    "        load_module method.\n",
    "        \"\"\"\n",
    "\n",
    "        # scenario 1 - \n",
    "        if self._is_repository_path(fullname):\n",
    "            print('assigning', fullname, 'to path 1')\n",
    "            self._install_module(fullname)\n",
    "\n",
    "        # scenario 2a - \n",
    "        if self._is_intermediate_path(fullname):\n",
    "            print('assigning', fullname, 'to path 2a')\n",
    "            module = IntermediateModule(fullname)\n",
    "        # scenario 2b\n",
    "        else:\n",
    "            print('assigning', fullname, 'to path 2b')\n",
    "            module = self._import_module(fullname)\n",
    "\n",
    "        # all modules are placed in sys.modules, which is different from globals()\n",
    "        sys.modules[fullname] = module"
   ]
  },
  {
   "cell_type": "code",
   "execution_count": 2,
   "metadata": {},
   "outputs": [],
   "source": [
    "sys.meta_path.append(GithubComFinder())"
   ]
  },
  {
   "cell_type": "code",
   "execution_count": 3,
   "metadata": {},
   "outputs": [
    {
     "name": "stdout",
     "output_type": "stream",
     "text": [
      "module_name is  piehub\n",
      "assigning piehub to path 2\n",
      "module_name is  piehub.kennethreitz\n",
      "assigning piehub.kennethreitz to path 2\n",
      "module_name is  piehub.kennethreitz.requests\n",
      "assigning piehub.kennethreitz.requests to path 1\n",
      "checking requests\n",
      "module_name is  requests\n",
      "fullname piehub.kennethreitz.requests\n",
      "url is git+https://github.com/kennethreitz/requests\n",
      "command is pip install git+https://github.com/kennethreitz/requests\n",
      "assigning piehub.kennethreitz.requests to path 3\n",
      "path 3 fname piehub.kennethreitz.requests\n",
      "checking requests\n",
      "module_name is  urllib3.packages.six.moves\n",
      "module_name is  urllib3.packages.six.moves.http_client\n",
      "module_name is  brotli\n",
      "module_name is  urllib3.packages.six.moves.urllib\n",
      "module_name is  urllib3.packages.six.moves.urllib.parse\n",
      "module_name is  brotli\n",
      "module_name is  simplejson\n"
     ]
    }
   ],
   "source": [
    "from piehub.kennethreitz import requests"
   ]
  },
  {
   "cell_type": "code",
   "execution_count": 6,
   "metadata": {},
   "outputs": [],
   "source": [
    "assert requests.get('https://github.com').status_code == 200"
   ]
  },
  {
   "cell_type": "code",
   "execution_count": 7,
   "metadata": {},
   "outputs": [
    {
     "data": {
      "text/plain": [
       "<module 'requests' from '/Users/vincenttang/anaconda3/lib/python3.7/site-packages/requests/__init__.py'>"
      ]
     },
     "execution_count": 7,
     "metadata": {},
     "output_type": "execute_result"
    }
   ],
   "source": [
    "__import__(\"requests\")"
   ]
  },
  {
   "cell_type": "code",
   "execution_count": 4,
   "metadata": {},
   "outputs": [
    {
     "name": "stdout",
     "output_type": "stream",
     "text": [
      "module_name is  simplejson\n"
     ]
    },
    {
     "ename": "ModuleNotFoundError",
     "evalue": "No module named 'simplejson'",
     "output_type": "error",
     "traceback": [
      "\u001b[0;31m---------------------------------------------------------------------------\u001b[0m",
      "\u001b[0;31mModuleNotFoundError\u001b[0m                       Traceback (most recent call last)",
      "\u001b[0;32m<ipython-input-4-bb91ff92acad>\u001b[0m in \u001b[0;36m<module>\u001b[0;34m\u001b[0m\n\u001b[0;32m----> 1\u001b[0;31m \u001b[0m__import__\u001b[0m\u001b[0;34m(\u001b[0m\u001b[0;34m\"simplejson\"\u001b[0m\u001b[0;34m)\u001b[0m\u001b[0;34m\u001b[0m\u001b[0;34m\u001b[0m\u001b[0m\n\u001b[0m",
      "\u001b[0;31mModuleNotFoundError\u001b[0m: No module named 'simplejson'"
     ]
    }
   ],
   "source": [
    "__import__(\"simplejson\")"
   ]
  },
  {
   "cell_type": "code",
   "execution_count": null,
   "metadata": {},
   "outputs": [],
   "source": []
  }
 ],
 "metadata": {
  "kernelspec": {
   "display_name": "Python 3",
   "language": "python",
   "name": "python3"
  },
  "language_info": {
   "codemirror_mode": {
    "name": "ipython",
    "version": 3
   },
   "file_extension": ".py",
   "mimetype": "text/x-python",
   "name": "python",
   "nbconvert_exporter": "python",
   "pygments_lexer": "ipython3",
   "version": "3.7.6"
  }
 },
 "nbformat": 4,
 "nbformat_minor": 4
}
